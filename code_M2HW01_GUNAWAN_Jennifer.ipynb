{
 "cells": [
  {
   "cell_type": "markdown",
   "metadata": {},
   "source": [
    "Homework M2HW01\n",
    "========"
   ]
  },
  {
   "cell_type": "code",
   "execution_count": 1,
   "metadata": {},
   "outputs": [
    {
     "name": "stdout",
     "output_type": "stream",
     "text": [
      "Operating System=Windows 10\n",
      "Python=3.11.3 | packaged by Anaconda, Inc. | (main, Apr 19 2023, 23:46:34) [MSC v.1916 64 bit (AMD64)]\n",
      "notebook=6.5.4\n",
      "numpy=1.24.3\n"
     ]
    }
   ],
   "source": [
    "import sys\n",
    "import platform\n",
    "import notebook\n",
    "import numpy as np\n",
    "print(f'Operating System={platform.system()} {platform.release()}')\n",
    "print(f'Python={sys.version}')\n",
    "print(f'notebook={notebook.__version__}')\n",
    "print(f'numpy={np.version.version}')"
   ]
  },
  {
   "cell_type": "markdown",
   "metadata": {},
   "source": [
    "Problem 1\n",
    "========"
   ]
  },
  {
   "cell_type": "code",
   "execution_count": 2,
   "metadata": {},
   "outputs": [],
   "source": [
    "import random"
   ]
  },
  {
   "cell_type": "code",
   "execution_count": 3,
   "metadata": {},
   "outputs": [],
   "source": [
    "def M2HW01P1(M = 100, N=6):\n",
    "    \"\"\"\n",
    "    M: number of trials\n",
    "    N: number of faces in a die, which should be set to 6 for this problem.\n",
    "    \"\"\"\n",
    "    \n",
    "    expectation_estimate = 0\n",
    "    \n",
    "    ###################################################################################\n",
    "    \n",
    "    ### Fill in here with your Monte Carlo simulation to calculate expectation_estimate\n",
    "    \n",
    "    #random.seed(32) #to check work; not part of the actual assignment.\n",
    "    for _ in range(M):\n",
    "        numbers_seen = set()\n",
    "        rolls = 0\n",
    "        \n",
    "        while len(numbers_seen) < N:\n",
    "            roll = random.randint(1,N)\n",
    "            numbers_seen.add(roll)\n",
    "            rolls += 1\n",
    "            \n",
    "        expectation_estimate += rolls\n",
    "        \n",
    "    expectation_estimate /= M\n",
    "    \n",
    "    ###################################################################################\n",
    "    \n",
    "    return expectation_estimate"
   ]
  },
  {
   "cell_type": "code",
   "execution_count": 4,
   "metadata": {},
   "outputs": [
    {
     "name": "stdout",
     "output_type": "stream",
     "text": [
      "CPU times: total: 391 ms\n",
      "Wall time: 572 ms\n",
      "14.70674\n",
      "M = 1000; Expected number of rolls = 14.621\n",
      "M = 10000; Expected number of rolls = 14.688\n",
      "M = 100000; Expected number of rolls = 14.70127\n"
     ]
    }
   ],
   "source": [
    "%time e = M2HW01P1(100000)\n",
    "print(e) # e should be close to 14.7.\n",
    "\n",
    "# Call M2HW01P1 for the three cases (case #3 shown above but the number may be different because I didn't set a seed)\n",
    "num_trials = [1000, 10000, 100000]\n",
    "\n",
    "for M in num_trials:\n",
    "    expected_rolls = M2HW01P1(M)\n",
    "    print(f\"M = {M}; Expected number of rolls = {expected_rolls}\")"
   ]
  },
  {
   "cell_type": "markdown",
   "metadata": {},
   "source": [
    "Problem 2\n",
    "========"
   ]
  },
  {
   "cell_type": "code",
   "execution_count": 5,
   "metadata": {},
   "outputs": [],
   "source": [
    "def M2HW01P2(n):\n",
    "    if n < 3 or n > 8:\n",
    "        return \"n not within range (3 <= n <= 8)\"\n",
    "    \n",
    "    count = 0\n",
    "    \n",
    "    for num in range(10**(n-1), 10**n):\n",
    "        if str(num)[0] not in [\"0\", \"1\"]: #phone numbers that don't start with 0/1\n",
    "            if \"911\" not in str(num): #phone numbers that don't contain \"911\"\n",
    "                count += 1\n",
    "    return count"
   ]
  },
  {
   "cell_type": "code",
   "execution_count": 6,
   "metadata": {},
   "outputs": [
    {
     "name": "stdout",
     "output_type": "stream",
     "text": [
      "True\n",
      "True\n"
     ]
    }
   ],
   "source": [
    "# sample test cases. All of them should print True.\n",
    "print(M2HW01P2(n=3) == 799)\n",
    "print(M2HW01P2(n=7) == 7958028)"
   ]
  },
  {
   "cell_type": "code",
   "execution_count": null,
   "metadata": {},
   "outputs": [],
   "source": []
  }
 ],
 "metadata": {
  "kernelspec": {
   "display_name": "Python 3 (ipykernel)",
   "language": "python",
   "name": "python3"
  },
  "language_info": {
   "codemirror_mode": {
    "name": "ipython",
    "version": 3
   },
   "file_extension": ".py",
   "mimetype": "text/x-python",
   "name": "python",
   "nbconvert_exporter": "python",
   "pygments_lexer": "ipython3",
   "version": "3.11.3"
  }
 },
 "nbformat": 4,
 "nbformat_minor": 4
}
