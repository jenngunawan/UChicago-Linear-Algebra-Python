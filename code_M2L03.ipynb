{
 "cells": [
  {
   "cell_type": "markdown",
   "metadata": {},
   "source": [
    "code M2L03\n",
    "====="
   ]
  },
  {
   "cell_type": "code",
   "execution_count": 1,
   "metadata": {},
   "outputs": [],
   "source": [
    "import numpy as np\n",
    "from numpy import dot, arange, array, sqrt, eye, diag, ones, tril, var, mean, matmul, cumprod, cumsum\n",
    "from numpy.random import permutation\n",
    "from numpy.linalg import norm"
   ]
  },
  {
   "cell_type": "markdown",
   "metadata": {},
   "source": [
    "numpy cumprod and cumsum\n",
    "==\n",
    "These 2 functions are useful in a few scenarios, like in simulating asset price paths in Monte Carlo simulation. Proper use of them saves you from using loops and makes your intention more explicit.\n",
    "\n",
    "https://numpy.org/doc/stable/reference/generated/numpy.cumprod.html\n",
    "\n",
    "https://numpy.org/doc/stable/reference/generated/numpy.cumsum.html"
   ]
  },
  {
   "cell_type": "code",
   "execution_count": 2,
   "metadata": {},
   "outputs": [
    {
     "name": "stdout",
     "output_type": "stream",
     "text": [
      "[1 2 6]\n",
      "\n",
      "[[1 2 3]\n",
      " [4 5 6]\n",
      " [7 8 9]]\n",
      "\n",
      "[     1      2      6     24    120    720   5040  40320 362880]\n",
      "\n",
      "[[  1   2   3]\n",
      " [  4  10  18]\n",
      " [ 28  80 162]]\n",
      "\n",
      "[[  1   2   6]\n",
      " [  4  20 120]\n",
      " [  7  56 504]]\n"
     ]
    }
   ],
   "source": [
    "a = array([1,2,3])\n",
    "print(cumprod(a) )\n",
    "print()\n",
    "\n",
    "b = array([[1, 2, 3], [4, 5, 6],[7,8,9]])\n",
    "print(b)\n",
    "print()\n",
    "print(cumprod(b))\n",
    "print()\n",
    "print(cumprod(b,0))\n",
    "print()\n",
    "print(cumprod(b,1))"
   ]
  },
  {
   "cell_type": "code",
   "execution_count": 3,
   "metadata": {},
   "outputs": [
    {
     "name": "stdout",
     "output_type": "stream",
     "text": [
      "[1 3 6]\n",
      "\n",
      "[[1 2 3]\n",
      " [4 5 6]\n",
      " [7 8 9]]\n",
      "\n",
      "[ 1  3  6 10 15 21 28 36 45]\n",
      "\n",
      "[[ 1  2  3]\n",
      " [ 5  7  9]\n",
      " [12 15 18]]\n",
      "\n",
      "[[ 1  3  6]\n",
      " [ 4  9 15]\n",
      " [ 7 15 24]]\n"
     ]
    }
   ],
   "source": [
    "a = array([1,2,3])\n",
    "print(cumsum(a) )\n",
    "print()\n",
    "\n",
    "b = array([[1, 2, 3], [4, 5, 6],[7,8,9]])\n",
    "print(b)\n",
    "print()\n",
    "print(cumsum(b))\n",
    "print()\n",
    "print(cumsum(b,0))\n",
    "print()\n",
    "print(cumsum(b,1))"
   ]
  },
  {
   "cell_type": "markdown",
   "metadata": {},
   "source": [
    "Code snippets for M2L03\n",
    "=="
   ]
  },
  {
   "cell_type": "markdown",
   "metadata": {},
   "source": [
    "Elimination with Matrices\n",
    "-----"
   ]
  },
  {
   "cell_type": "code",
   "execution_count": 4,
   "metadata": {},
   "outputs": [
    {
     "name": "stdout",
     "output_type": "stream",
     "text": [
      "[[1 2 1]\n",
      " [3 8 1]\n",
      " [0 4 1]]\n",
      "\n",
      "[[ 1  0  0]\n",
      " [-3  1  0]\n",
      " [ 0  0  1]]\n",
      "\n",
      "[[ 1  2  1]\n",
      " [ 0  2 -2]\n",
      " [ 0  4  1]]\n"
     ]
    }
   ],
   "source": [
    "A = array([[1,2,1],[3,8,1],[0,4,1]])\n",
    "print(A)\n",
    "print()\n",
    "\n",
    "E21 = array([[1,0,0],[-3,1,0],[0,0,1]])\n",
    "print(E21)\n",
    "print()\n",
    "\n",
    "print(E21 @ A)"
   ]
  },
  {
   "cell_type": "code",
   "execution_count": 5,
   "metadata": {},
   "outputs": [
    {
     "name": "stdout",
     "output_type": "stream",
     "text": [
      "[[ 1  0  0]\n",
      " [ 0  1  0]\n",
      " [ 0 -2  1]]\n",
      "\n",
      "[[ 1  2  1]\n",
      " [ 0  2 -2]\n",
      " [ 0  0  5]]\n"
     ]
    }
   ],
   "source": [
    "E32 = array([[1, 0 ,0],[0,1,0],[0,-2,1]])\n",
    "print(E32)\n",
    "print()\n",
    "\n",
    "print(E32 @ E21 @ A)"
   ]
  },
  {
   "cell_type": "code",
   "execution_count": 6,
   "metadata": {},
   "outputs": [
    {
     "name": "stdout",
     "output_type": "stream",
     "text": [
      "[[ 1  0  0]\n",
      " [-3  1  0]\n",
      " [ 6 -2  1]]\n"
     ]
    }
   ],
   "source": [
    "print(E32 @ E21)"
   ]
  },
  {
   "cell_type": "markdown",
   "metadata": {},
   "source": [
    "Inverse Matrices\n",
    "--"
   ]
  },
  {
   "cell_type": "code",
   "execution_count": 7,
   "metadata": {},
   "outputs": [
    {
     "name": "stdout",
     "output_type": "stream",
     "text": [
      "[[ 1  0  0]\n",
      " [-3  1  0]\n",
      " [ 0  0  1]]\n",
      "\n",
      "[[1 0 0]\n",
      " [3 1 0]\n",
      " [0 0 1]]\n",
      "\n",
      "[[1 2 1]\n",
      " [3 8 1]\n",
      " [0 4 1]]\n",
      "[[ 1  2  1]\n",
      " [ 0  2 -2]\n",
      " [ 0  4  1]]\n",
      "[[1 2 1]\n",
      " [3 8 1]\n",
      " [0 4 1]]\n"
     ]
    }
   ],
   "source": [
    "print(E21)\n",
    "print()\n",
    "\n",
    "InvE21 = array([[1,0,0],[3,1,0],[0,0,1]])\n",
    "print(InvE21)\n",
    "print()\n",
    "\n",
    "print(A)\n",
    "print(E21@A)\n",
    "print(InvE21@E21@A)"
   ]
  }
 ],
 "metadata": {
  "kernelspec": {
   "display_name": "Python 3",
   "language": "python",
   "name": "python3"
  },
  "language_info": {
   "codemirror_mode": {
    "name": "ipython",
    "version": 3
   },
   "file_extension": ".py",
   "mimetype": "text/x-python",
   "name": "python",
   "nbconvert_exporter": "python",
   "pygments_lexer": "ipython3",
   "version": "3.8.8"
  }
 },
 "nbformat": 4,
 "nbformat_minor": 2
}
