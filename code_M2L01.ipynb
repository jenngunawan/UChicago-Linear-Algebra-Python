{
 "cells": [
  {
   "cell_type": "markdown",
   "metadata": {},
   "source": [
    "Today's goal: Monte Carlo Simulation\n",
    "=================="
   ]
  },
  {
   "cell_type": "markdown",
   "metadata": {},
   "source": [
    "Numbers\n",
    "====\n",
    "\n",
    "Simple calculation\n",
    "-------------------\n",
    "The operators +, -, * and / work just like in most other languages (for example, Pascal or C); parentheses () can be used for grouping."
   ]
  },
  {
   "cell_type": "code",
   "execution_count": 1,
   "metadata": {},
   "outputs": [
    {
     "name": "stdout",
     "output_type": "stream",
     "text": [
      "4\n",
      "20\n",
      "5.0\n",
      "1.6\n"
     ]
    }
   ],
   "source": [
    "print(2 + 2) #same as 2+2 but only last line printed out if multiple eqns\n",
    "\n",
    "print(50 - 5*6)\n",
    "\n",
    "print((50 - 5*6) / 4)\n",
    "\n",
    "print(8 / 5)  # division always returns a floating point number"
   ]
  },
  {
   "cell_type": "code",
   "execution_count": 85,
   "metadata": {},
   "outputs": [
    {
     "data": {
      "text/plain": [
       "int"
      ]
     },
     "execution_count": 85,
     "metadata": {},
     "output_type": "execute_result"
    }
   ],
   "source": [
    "type(10)"
   ]
  },
  {
   "cell_type": "markdown",
   "metadata": {},
   "source": [
    "Floor division and remainder\n",
    "-----------------------------\n",
    "- Floor division: To do floor division and get an integer result (discarding any fractional result) you can use the // operator.\n",
    "- Remainder: to calculate the remainder you can use %."
   ]
  },
  {
   "cell_type": "code",
   "execution_count": 2,
   "metadata": {},
   "outputs": [
    {
     "name": "stdout",
     "output_type": "stream",
     "text": [
      "5.666666666666667\n",
      "5\n",
      "2\n",
      "17\n"
     ]
    }
   ],
   "source": [
    "print(17 / 3)  # classic division returns a float\n",
    "\n",
    "print(17 // 3)  # floor division discards the fractional part (truncate division)\n",
    "\n",
    "print(17 % 3)  # the % operator returns the remainder of the division (remainder)\n",
    "\n",
    "print(5 * 3 + 2)  # result * divisor + remainder"
   ]
  },
  {
   "cell_type": "markdown",
   "metadata": {},
   "source": [
    "Exponentiation\n",
    "--------------\n",
    "- With Python, it is possible to use the ** operator to calculate powers.\n",
    "- Since `**` has higher precedence than -, -3`**`2 will be interpreted as -(3`**`2) and thus result in -9. To avoid this and get 9, you can use (-3)`**`2."
   ]
  },
  {
   "cell_type": "code",
   "execution_count": 3,
   "metadata": {},
   "outputs": [
    {
     "name": "stdout",
     "output_type": "stream",
     "text": [
      "25\n",
      "128\n",
      "-9\n",
      "9\n"
     ]
    }
   ],
   "source": [
    "print(5 ** 2)  # 5 squared\n",
    "\n",
    "print(2 ** 7)  # 2 to the power of 7\n",
    "\n",
    "print(-3 ** 2) #WRONG SYNTAX => -(3**2)\n",
    "\n",
    "print((-3) ** 2) #(-3)^2"
   ]
  },
  {
   "cell_type": "markdown",
   "metadata": {},
   "source": [
    "Variable\n",
    "--------\n",
    "- The equal sign (=) is used to assign a value to a variable.\n",
    "- If a variable is not “defined” (assigned a value), trying to use it will give you an error."
   ]
  },
  {
   "cell_type": "code",
   "execution_count": 4,
   "metadata": {},
   "outputs": [
    {
     "data": {
      "text/plain": [
       "900"
      ]
     },
     "execution_count": 4,
     "metadata": {},
     "output_type": "execute_result"
    }
   ],
   "source": [
    "width = 20 #assign 20 to \"width\"\n",
    "height = 5 * 9\n",
    "width * height\n",
    "# n    # uncommenting this line will result in an error, as variable n is not defined."
   ]
  },
  {
   "cell_type": "code",
   "execution_count": null,
   "metadata": {},
   "outputs": [],
   "source": [
    "# Expression: a unit for language to evaluate and give output. \n",
    "# 1 line may hv multiple expressions."
   ]
  },
  {
   "cell_type": "markdown",
   "metadata": {},
   "source": [
    "Lists\n",
    "===\n",
    "A list is written as a list of comma-separated values (items) between square brackets. Lists might contain items of different types, but usually the items all have the same type."
   ]
  },
  {
   "cell_type": "code",
   "execution_count": 5,
   "metadata": {},
   "outputs": [
    {
     "data": {
      "text/plain": [
       "[1, 4, 9, 16, 25]"
      ]
     },
     "execution_count": 5,
     "metadata": {},
     "output_type": "execute_result"
    }
   ],
   "source": [
    "squares = [1, 4, 9, 16, 25]\n",
    "squares"
   ]
  },
  {
   "cell_type": "markdown",
   "metadata": {},
   "source": [
    "Indexing and slicing\n",
    "---------------------"
   ]
  },
  {
   "cell_type": "code",
   "execution_count": 88,
   "metadata": {},
   "outputs": [
    {
     "name": "stdout",
     "output_type": "stream",
     "text": [
      "1\n",
      "25\n",
      "9\n",
      "[9, 16, 25]\n",
      "[1, 4, 9]\n",
      "[4, 9, 16]\n"
     ]
    }
   ],
   "source": [
    "squares = [1, 4, 9, 16, 25]\n",
    "\n",
    "print(squares[0])  # get the firt 1 item\n",
    "\n",
    "print(squares[-1]) # get the last item\n",
    "\n",
    "print(squares[-3]) #3rd frm last\n",
    "\n",
    "print(squares[-3:])  # get the last 3 items\n",
    "\n",
    "print(squares[:3]) # get the firt 3 items\n",
    "\n",
    "print(squares[1:4])  # Note that the end index is exclusive from the result."
   ]
  },
  {
   "cell_type": "markdown",
   "metadata": {},
   "source": [
    "Updating single and multiple items\n",
    "----------------------------------"
   ]
  },
  {
   "cell_type": "code",
   "execution_count": 7,
   "metadata": {},
   "outputs": [
    {
     "name": "stdout",
     "output_type": "stream",
     "text": [
      "[1, 4, 9, 16, 25]\n",
      "[1, 4, 99, 16, 25]\n",
      "[1, 4, 9, 16, 25]\n",
      "[1, 4, 9, 10, 20]\n"
     ]
    }
   ],
   "source": [
    "squares = [1, 4, 9, 16, 25]\n",
    "print(squares)\n",
    "squares[2] = 99  # update the second item\n",
    "print(squares)\n",
    "\n",
    "squares = [1, 4, 9, 16, 25]\n",
    "print(squares)\n",
    "squares[-2:] = [10, 20] #update last 2 items\n",
    "print(squares)"
   ]
  },
  {
   "cell_type": "markdown",
   "metadata": {},
   "source": [
    "Removal of items\n",
    "----------------"
   ]
  },
  {
   "cell_type": "code",
   "execution_count": 8,
   "metadata": {},
   "outputs": [
    {
     "name": "stdout",
     "output_type": "stream",
     "text": [
      "[1, 4, 9, 16, 25]\n",
      "[1, 16, 25]\n"
     ]
    }
   ],
   "source": [
    "squares = [1, 4, 9, 16, 25]\n",
    "print(squares)\n",
    "squares[1:3] = [] #remove\n",
    "print(squares)"
   ]
  },
  {
   "cell_type": "markdown",
   "metadata": {},
   "source": [
    "Length of a list\n",
    "----------------\n",
    "In the examples below, we use f-strings in Python. There are other ways of printting formatted strings in Python: https://docs.python.org/3.9/tutorial/inputoutput.html."
   ]
  },
  {
   "cell_type": "code",
   "execution_count": 9,
   "metadata": {},
   "outputs": [
    {
     "name": "stdout",
     "output_type": "stream",
     "text": [
      "5: [1, 4, 9, 16, 25]\n",
      "7: [1, 4, 9, 16, 25, 100, 200]\n",
      "4: [1, 4, 100, 200]\n"
     ]
    }
   ],
   "source": [
    "squares = [1, 4, 9, 16, 25]\n",
    "print(f'{len(squares)}: {squares}')\n",
    "\n",
    "squares = squares + [100, 200] #list concat\n",
    "print(f'{len(squares)}: {squares}')\n",
    "\n",
    "squares[2:5] = []\n",
    "print(f'{len(squares)}: {squares}')"
   ]
  },
  {
   "cell_type": "code",
   "execution_count": 91,
   "metadata": {},
   "outputs": [
    {
     "data": {
      "text/plain": [
       "'X=20'"
      ]
     },
     "execution_count": 91,
     "metadata": {},
     "output_type": "execute_result"
    }
   ],
   "source": [
    "x = 10\n",
    "f\"X={x+10}\" #f\"\"\": formatted string; {}: inside it is the dynamic portion"
   ]
  },
  {
   "cell_type": "markdown",
   "metadata": {},
   "source": [
    "Concatenation of lists\n",
    "-------------"
   ]
  },
  {
   "cell_type": "code",
   "execution_count": 10,
   "metadata": {},
   "outputs": [
    {
     "name": "stdout",
     "output_type": "stream",
     "text": [
      "[1, 4, 9, 16, 25]\n",
      "[1, 4, 9, 16, 25, 36, 49, 64, 81, 100]\n",
      "[1, 4, 9, 16, 25]\n",
      "[1, 4, 9, 16, 25, 36, 49, 64, 81, 100]\n"
     ]
    }
   ],
   "source": [
    "squares = [1, 4, 9, 16, 25]\n",
    "print(squares)\n",
    "squares = squares + [36, 49, 64, 81, 100]\n",
    "print(squares)\n",
    "\n",
    "squares = [1, 4, 9, 16, 25]\n",
    "print(squares)\n",
    "squares.extend([36, 49, 64, 81, 100]) #.extend() or +: concat method\n",
    "print(squares)"
   ]
  },
  {
   "cell_type": "markdown",
   "metadata": {},
   "source": [
    "Appending new items\n",
    "--------------------"
   ]
  },
  {
   "cell_type": "code",
   "execution_count": 11,
   "metadata": {},
   "outputs": [
    {
     "name": "stdout",
     "output_type": "stream",
     "text": [
      "[1, 8, 27, 64, 125, 216, 343]\n"
     ]
    }
   ],
   "source": [
    "cubes = [1, 8, 27, 64, 125]\n",
    "cubes.append(216)  # add the cube of 6\n",
    "cubes.append(7 ** 3)  # and the cube of 7\n",
    "print(cubes)"
   ]
  },
  {
   "cell_type": "code",
   "execution_count": 96,
   "metadata": {},
   "outputs": [
    {
     "ename": "TypeError",
     "evalue": "'int' object is not iterable",
     "output_type": "error",
     "traceback": [
      "\u001b[1;31m---------------------------------------------------------------------------\u001b[0m",
      "\u001b[1;31mTypeError\u001b[0m                                 Traceback (most recent call last)",
      "\u001b[1;32mc:\\Users\\jenni\\Dropbox\\UChicago\\FinMath Prep\\Pre-Lectures\\1\\code_M2L01.ipynb Cell 27\u001b[0m line \u001b[0;36m3\n\u001b[0;32m      <a href='vscode-notebook-cell:/c%3A/Users/jenni/Dropbox/UChicago/FinMath%20Prep/Pre-Lectures/1/code_M2L01.ipynb#Y122sZmlsZQ%3D%3D?line=0'>1</a>\u001b[0m cubes \u001b[39m=\u001b[39m [\u001b[39m1\u001b[39m, \u001b[39m8\u001b[39m, \u001b[39m27\u001b[39m, \u001b[39m64\u001b[39m, \u001b[39m125\u001b[39m]\n\u001b[0;32m      <a href='vscode-notebook-cell:/c%3A/Users/jenni/Dropbox/UChicago/FinMath%20Prep/Pre-Lectures/1/code_M2L01.ipynb#Y122sZmlsZQ%3D%3D?line=1'>2</a>\u001b[0m cubes\u001b[39m.\u001b[39mextend(\u001b[39m\"\u001b[39m\u001b[39m216\u001b[39m\u001b[39m\"\u001b[39m)  \u001b[39m# add the cube of 6\u001b[39;00m\n\u001b[1;32m----> <a href='vscode-notebook-cell:/c%3A/Users/jenni/Dropbox/UChicago/FinMath%20Prep/Pre-Lectures/1/code_M2L01.ipynb#Y122sZmlsZQ%3D%3D?line=2'>3</a>\u001b[0m cubes\u001b[39m.\u001b[39;49mextend(\u001b[39mint\u001b[39;49m(\u001b[39m7\u001b[39;49m \u001b[39m*\u001b[39;49m\u001b[39m*\u001b[39;49m \u001b[39m3\u001b[39;49m))  \u001b[39m# and the cube of 7\u001b[39;00m\n\u001b[0;32m      <a href='vscode-notebook-cell:/c%3A/Users/jenni/Dropbox/UChicago/FinMath%20Prep/Pre-Lectures/1/code_M2L01.ipynb#Y122sZmlsZQ%3D%3D?line=3'>4</a>\u001b[0m \u001b[39mprint\u001b[39m(cubes)\n",
      "\u001b[1;31mTypeError\u001b[0m: 'int' object is not iterable"
     ]
    }
   ],
   "source": [
    "cubes = [1, 8, 27, 64, 125]\n",
    "cubes.extend(\"216\")  # add the cube of 6\n",
    "cubes.extend(7 ** 3)  # and the cube of 7\n",
    "print(cubes)"
   ]
  },
  {
   "cell_type": "markdown",
   "metadata": {},
   "source": [
    "while loop\n",
    "----------\n",
    "The while loop executes as long as the condition (here: b < 10) remains true. In Python, like in C language, any non-zero integer value is true; zero is false. The condition may also be a string or a list. In fact, any sequence, including strings or lists, with a non-zero length is true, whereas empty sequences are false. The test used in the example is a simple comparison. The standard comparison operators are written the same as in C language: < (less than), > (greater than), == (equal to), <= (less than or equal to), >= (greater than or equal to) and != (not equal to)."
   ]
  },
  {
   "cell_type": "code",
   "execution_count": 12,
   "metadata": {},
   "outputs": [
    {
     "name": "stdout",
     "output_type": "stream",
     "text": [
      "1\n",
      "1\n",
      "2\n",
      "3\n",
      "5\n",
      "8\n"
     ]
    },
    {
     "data": {
      "text/plain": [
       "\"\\nThe first line contains a multiple assignment: the variables a and b simultaneously get the new values 0 and 1. \\nOn the last line this is used again, demonstrating that the expressions on \\nthe right-hand side are all evaluated first before any of the assignments take place. \\nThe right-hand side expressions are evaluated from the left to the right.\\n\\nBeing unware of this may lead to a bug. Use it with caution, or don't use it at all.\\n\""
      ]
     },
     "execution_count": 12,
     "metadata": {},
     "output_type": "execute_result"
    }
   ],
   "source": [
    "# Fibonacci series:\n",
    "# the sum of two elements defines the next\n",
    "a, b = 0, 1\n",
    "while b < 10:      # Note that Python uses indention to identify the body of a while block\n",
    "    print(b)\n",
    "    a, b = b, a+b\n",
    "    \n",
    "\"\"\"\n",
    "The first line contains a multiple assignment: the variables a and b simultaneously get the new values 0 and 1. \n",
    "On the last line this is used again, demonstrating that the expressions on \n",
    "the right-hand side are all evaluated first before any of the assignments take place. \n",
    "The right-hand side expressions are evaluated from the left to the right.\n",
    "\n",
    "Being unware of this may lead to a bug. Use it with caution, or don't use it at all.\n",
    "\"\"\"     "
   ]
  },
  {
   "cell_type": "code",
   "execution_count": 101,
   "metadata": {},
   "outputs": [
    {
     "name": "stdout",
     "output_type": "stream",
     "text": [
      "a=1, b=1\n"
     ]
    }
   ],
   "source": [
    "a,b = 0,1\n",
    "\n",
    "a,b = b, a+b \n",
    "# a=b\n",
    "# b=a+b #not this way, but assigned frm the beginning.\n",
    "print(f\"a={a}, b={b}\")"
   ]
  },
  {
   "cell_type": "markdown",
   "metadata": {},
   "source": [
    "if statements\n",
    "-------------"
   ]
  },
  {
   "cell_type": "code",
   "execution_count": 105,
   "metadata": {},
   "outputs": [
    {
     "name": "stdout",
     "output_type": "stream",
     "text": [
      "More\n"
     ]
    }
   ],
   "source": [
    "x = int(input(\"Please enter an integer: \")) #input() returns string, so must conv using int()\n",
    "if x < 0:\n",
    "    x = 0\n",
    "    print('Negative changed to zero')\n",
    "elif x == 0:\n",
    "    print('Zero')\n",
    "elif x == 1:\n",
    "    print('Single')\n",
    "else:\n",
    "    print('More') #input=50 RE-RUN TO ORI FILE USING IPYNB CONDA"
   ]
  },
  {
   "cell_type": "code",
   "execution_count": 103,
   "metadata": {},
   "outputs": [
    {
     "name": "stdout",
     "output_type": "stream",
     "text": [
      "more\n"
     ]
    }
   ],
   "source": [
    "x=0\n",
    "if x<0:\n",
    "    x=0\n",
    "    print('Negative changed to zero')\n",
    "else:\n",
    "    print(\"more\")"
   ]
  },
  {
   "cell_type": "markdown",
   "metadata": {},
   "source": [
    "The range() Function\n",
    "---------------------\n",
    "- The output of range() is an iterable rather than a list.\n",
    "- If you are interested to dive deeper into the difference between iterables v.s. iterators, here is a good blog post: https://treyhunner.com/2018/02/python-range-is-not-an-iterator/."
   ]
  },
  {
   "cell_type": "code",
   "execution_count": 14,
   "metadata": {},
   "outputs": [
    {
     "name": "stdout",
     "output_type": "stream",
     "text": [
      "range(0, 5)\n",
      "[0, 1, 2, 3, 4]\n",
      "[2, 5, 8]\n",
      "[-10, -30, -50, -70, -90]\n"
     ]
    }
   ],
   "source": [
    "a = range(5)\n",
    "print(a)\n",
    "\n",
    "b = list(range(5)) #pass range() into list()\n",
    "print(b)\n",
    "\n",
    "c = list(range(2,10,3))\n",
    "print(c)\n",
    "\n",
    "d = list(range(-10,-100,-20))\n",
    "print(d)"
   ]
  },
  {
   "cell_type": "markdown",
   "metadata": {},
   "source": [
    "for loop\n",
    "--------\n",
    "Python’s for statement iterates over the items of any sequence (a list or a string), in the order that they appear in the sequence."
   ]
  },
  {
   "cell_type": "code",
   "execution_count": 15,
   "metadata": {},
   "outputs": [
    {
     "name": "stdout",
     "output_type": "stream",
     "text": [
      "cat 3\n",
      "window 6\n",
      "defenestrate 12\n"
     ]
    }
   ],
   "source": [
    "# Measure some strings:\n",
    "words = ['cat', 'window', 'defenestrate']\n",
    "for w in words: #w is the dummy variable (can use anything)\n",
    "    print(w, len(w))"
   ]
  },
  {
   "cell_type": "code",
   "execution_count": 106,
   "metadata": {},
   "outputs": [
    {
     "name": "stdout",
     "output_type": "stream",
     "text": [
      "0\n",
      "1\n",
      "2\n",
      "3\n",
      "4\n",
      "0 Mary\n",
      "1 had\n",
      "2 a\n",
      "3 little\n",
      "4 lamb\n",
      "0 Mary\n",
      "1 had\n",
      "2 a\n",
      "3 little\n",
      "4 lamb\n"
     ]
    }
   ],
   "source": [
    "# Very often we use for together with range().\n",
    "for i in range(5):\n",
    "    print(i)\n",
    "    \n",
    "a = ['Mary', 'had', 'a', 'little', 'lamb']\n",
    "for i in range(len(a)):     # Another way to do the same is the enumearte() function.\n",
    "    print(i, a[i])\n",
    "    \n",
    "a = ['Mary', 'had', 'a', 'little', 'lamb']\n",
    "for i, v in enumerate(a): #i to index, v to the word in enumerate()\n",
    "    print(i,v)"
   ]
  },
  {
   "cell_type": "code",
   "execution_count": 108,
   "metadata": {},
   "outputs": [
    {
     "name": "stdout",
     "output_type": "stream",
     "text": [
      "<enumerate object at 0x00000206572F6570>\n",
      "[(0, 'Mary'), (1, 'had'), (2, 'a'), (3, 'little'), (4, 'lamb')]\n"
     ]
    }
   ],
   "source": [
    "print(enumerate(a))\n",
    "\n",
    "print(list(enumerate(a)))"
   ]
  },
  {
   "cell_type": "code",
   "execution_count": 17,
   "metadata": {},
   "outputs": [
    {
     "name": "stdout",
     "output_type": "stream",
     "text": [
      "['cat', 'window', 'defenestrate']\n",
      "cat 3\n",
      "window 6\n",
      "defenestrate 12\n",
      "['defenestrate', 'cat', 'window', 'defenestrate']\n"
     ]
    }
   ],
   "source": [
    "\"\"\"\n",
    "With \"for w in words:\", the example would attempt to create an infinite list, inserting defenestrate over and over again.\n",
    "Therefore, the use of \"words[:]:\" is necessary.\n",
    "\n",
    "Keep in mind that when you use for loop to iterate through a list, you generally want the list to remain static \n",
    "throughout the duration of the for loop.\n",
    "\"\"\"\n",
    "words = ['cat', 'window', 'defenestrate']\n",
    "print(words)\n",
    "for w in words[:]:  # Loop over a slice copy (separate copy of the same, but diff id()) of the entire list. #same value same id() in py\n",
    "# for w in words:   # Enabling this line will lead to an infinite loop (doesn't end, no error)\n",
    "    print(w, len(w))\n",
    "    if len(w) > 6:\n",
    "        words.insert(0, w) #.insert(index, item) : puts w in index 0\n",
    "        \n",
    "print(words)"
   ]
  },
  {
   "cell_type": "markdown",
   "metadata": {},
   "source": [
    "break and continue Statements, and else Clauses on Loops\n",
    "-----------------------------------------------------------\n",
    "The break statement, like in C, breaks out of the innermost enclosing for or while loop.\n",
    "\n",
    "Loop statements may have an else clause; it is executed when the loop terminates through exhaustion of the list (with for) or when the condition becomes false (with while), but not when the loop is terminated by a break statement. This is exemplified by the following loop, which searches for prime numbers:"
   ]
  },
  {
   "cell_type": "code",
   "execution_count": 18,
   "metadata": {},
   "outputs": [
    {
     "name": "stdout",
     "output_type": "stream",
     "text": [
      "2 is a prime number\n",
      "3 is a prime number\n",
      "4 equals 2 * 2\n",
      "5 is a prime number\n",
      "6 equals 2 * 3\n",
      "7 is a prime number\n",
      "8 equals 2 * 4\n",
      "9 equals 3 * 3\n"
     ]
    }
   ],
   "source": [
    "for n in range(2, 10):\n",
    "    for x in range(2, n):\n",
    "        if n % x == 0:\n",
    "            print(n, 'equals', x, '*', n//x)\n",
    "            break #terminate nearest for loop (early terminate: don't trigger else:)\n",
    "    else: #allow to continue for x in range(2,n): given outer for loop tht basically says list(range(2,2)) = [] which shouldn't run the inner if\n",
    "        # loop fell through without finding a factor\n",
    "        print(n, 'is a prime number')"
   ]
  },
  {
   "cell_type": "code",
   "execution_count": 19,
   "metadata": {},
   "outputs": [
    {
     "name": "stdout",
     "output_type": "stream",
     "text": [
      "Found an even number 2\n",
      "Found a number 3\n",
      "Found an even number 4\n",
      "Found a number 5\n",
      "Found an even number 6\n",
      "Found a number 7\n",
      "Found an even number 8\n",
      "Found a number 9\n"
     ]
    }
   ],
   "source": [
    "for num in range(2, 10):\n",
    "    if num % 2 == 0:\n",
    "        print(\"Found an even number\", num)\n",
    "        continue #early terminate but continue to next statement before next iteration\n",
    "    print(\"Found a number\", num)"
   ]
  },
  {
   "cell_type": "markdown",
   "metadata": {},
   "source": [
    "List comprehension\n",
    "-------------------"
   ]
  },
  {
   "cell_type": "code",
   "execution_count": 20,
   "metadata": {},
   "outputs": [
    {
     "name": "stdout",
     "output_type": "stream",
     "text": [
      "[0, 1, 4, 9, 16]\n",
      "[0, 4, 16]\n",
      "[3, 6, 12]\n"
     ]
    }
   ],
   "source": [
    "a = [x*x for x in range(5)]\n",
    "print(a)\n",
    "b = [x*x for x in range(5) if x % 2 == 0]\n",
    "print(b)\n",
    "words = ['cat', 'window', 'defenestrate']\n",
    "c = [len(w) for w in words]\n",
    "print(c)"
   ]
  },
  {
   "cell_type": "markdown",
   "metadata": {},
   "source": [
    "Defining functions\n",
    "========="
   ]
  },
  {
   "cell_type": "markdown",
   "metadata": {},
   "source": [
    "Functions returning nothing\n",
    "----------------------------"
   ]
  },
  {
   "cell_type": "code",
   "execution_count": 21,
   "metadata": {},
   "outputs": [
    {
     "name": "stdout",
     "output_type": "stream",
     "text": [
      "0 1 1 2 3 5 8 13 21 34 55 89 144 \n",
      "0 1 1 2 3 5 8 13 21 34 55 89 144 233 377 610 987 1597 \n"
     ]
    }
   ],
   "source": [
    "# Let's create a function that writes the Fibonacci series to an arbitrary boundary\n",
    "\n",
    "def fib(n):    # write Fibonacci series up to n\n",
    "    \"\"\"Print a Fibonacci series up to n.\"\"\"\n",
    "    a, b = 0, 1\n",
    "    while a < n:\n",
    "        print(a, end=' ')\n",
    "        a, b = b, a+b\n",
    "    print()\n",
    "\n",
    "# Now call the function we just defined:\n",
    "fib(200)\n",
    "\n",
    "# Functions are the first class citizen (is a value so can be assigned to variable) in the Python language, \n",
    "# i.e., one can have a variable of function or a list of functions.\n",
    "b = fib    \n",
    "b(2000)"
   ]
  },
  {
   "cell_type": "markdown",
   "metadata": {},
   "source": [
    "Functions returning values\n",
    "---------------------------"
   ]
  },
  {
   "cell_type": "code",
   "execution_count": 22,
   "metadata": {},
   "outputs": [
    {
     "data": {
      "text/plain": [
       "[0, 1, 1, 2, 3, 5, 8, 13, 21, 34, 55, 89]"
      ]
     },
     "execution_count": 22,
     "metadata": {},
     "output_type": "execute_result"
    }
   ],
   "source": [
    "def fib2(n):  # return Fibonacci series up to n\n",
    "    \"\"\"Return a list containing the Fibonacci series up to n.\"\"\"\n",
    "    result = []\n",
    "    a, b = 0, 1\n",
    "    while a < n:\n",
    "        result.append(a)    # see below\n",
    "        a, b = b, a+b\n",
    "    return result\n",
    "\n",
    "f100 = fib2(100)    # call it\n",
    "f100                # write the result"
   ]
  },
  {
   "cell_type": "markdown",
   "metadata": {},
   "source": [
    "Default argument values\n",
    "------------------------"
   ]
  },
  {
   "cell_type": "code",
   "execution_count": 23,
   "metadata": {},
   "outputs": [
    {
     "name": "stdout",
     "output_type": "stream",
     "text": [
      "Tell me yes or no:  no\n"
     ]
    },
    {
     "data": {
      "text/plain": [
       "False"
      ]
     },
     "execution_count": 23,
     "metadata": {},
     "output_type": "execute_result"
    }
   ],
   "source": [
    "def ask_ok(prompt, retries=4, reminder='Please try again!'): #default values assigned to last 2 parameters (always on right)\n",
    "    while True:\n",
    "        ok = input(prompt)\n",
    "        if ok in ['y', 'ye', 'yes']:\n",
    "            return True\n",
    "        if ok in ['n', 'no', 'nop', 'nope']:\n",
    "            return False\n",
    "        retries = retries - 1\n",
    "        if retries < 0:\n",
    "            raise ValueError('invalid user response')  # We will talk about exceptions later in this course.\n",
    "        print(reminder)\n",
    "\n",
    "        \n",
    "ask_ok(\"Tell me yes or no: \", reminder=\"What's wrong with you?\") #default val for retries (4) but change value of reminder"
   ]
  },
  {
   "cell_type": "markdown",
   "metadata": {},
   "source": [
    "The any() and all() functions\n",
    "------------------------------"
   ]
  },
  {
   "cell_type": "code",
   "execution_count": 24,
   "metadata": {},
   "outputs": [
    {
     "name": "stdout",
     "output_type": "stream",
     "text": [
      "[1, 2, 3, 4, 5, 6, 7, 8, 9]\n",
      "[False, True, False, True, False, True, False, True, False]\n",
      "False\n",
      "True\n",
      "[False, False, False, False, False, False, False, False, False]\n",
      "False\n",
      "False\n"
     ]
    }
   ],
   "source": [
    "numbers = list(range(1,10))\n",
    "print(numbers)\n",
    "a = [n % 2 == 0 for n in numbers]\n",
    "print(a)\n",
    "print(all(a))\n",
    "print(any(a))\n",
    "b = [n % 10 == 0 for n in numbers]\n",
    "print(b)\n",
    "print(all(b))\n",
    "print(any(b))"
   ]
  },
  {
   "cell_type": "markdown",
   "metadata": {},
   "source": [
    "Drawing samples from uniform distribution\n",
    "----------------------------------------------\n",
    "random.randint(a,b) returns a random integer N such that a <= N <= b.\n",
    "\n",
    "https://docs.python.org/3/library/random.html#random.randrange"
   ]
  },
  {
   "cell_type": "code",
   "execution_count": 25,
   "metadata": {},
   "outputs": [
    {
     "data": {
      "image/png": "[encoded data removed]",
      "text/plain": [
       "<Figure size 640x480 with 1 Axes>"
      ]
     },
     "metadata": {},
     "output_type": "display_data"
    }
   ],
   "source": [
    "%matplotlib inline\n",
    "import random\n",
    "import matplotlib.pyplot as plt\n",
    "a = [random.randrange(1,6+1) for x in range(120000)] #120000 samples\n",
    "plt.hist(a,bins='auto')\n",
    "plt.show()"
   ]
  },
  {
   "cell_type": "markdown",
   "metadata": {},
   "source": [
    "Monte Carlo Simulation Problem:\n",
    "================"
   ]
  },
  {
   "cell_type": "code",
   "execution_count": 26,
   "metadata": {},
   "outputs": [],
   "source": [
    "def roll(M=100, K=2, N=6): #M: number of trials, \n",
    "    trials = []\n",
    "\n",
    "    for m in range(M):\n",
    "        collection = [random.randint(1,N) for x in range(K)] #.randrange() exclusive N+1, .randint() inclusive\n",
    "        while any([c != N for c in collection[-K:]]):\n",
    "            collection.append(random.randrange(1,N+1))  \n",
    "        trials.append(len(collection))\n",
    "\n",
    "    return sum(trials) / len(trials)"
   ]
  },
  {
   "cell_type": "code",
   "execution_count": 27,
   "metadata": {},
   "outputs": [
    {
     "name": "stdout",
     "output_type": "stream",
     "text": [
      "CPU times: total: 438 ms\n",
      "Wall time: 449 ms\n"
     ]
    },
    {
     "data": {
      "text/plain": [
       "41.8657"
      ]
     },
     "execution_count": 27,
     "metadata": {},
     "output_type": "execute_result"
    }
   ],
   "source": [
    "%time roll(10000) #%time gets the time it takes to calculate (only in .ipynb)\n",
    "#%prun roll(10000,2)"
   ]
  },
  {
   "cell_type": "code",
   "execution_count": 28,
   "metadata": {},
   "outputs": [],
   "source": [
    "def roll_v2(M=100, K=2, N=6):\n",
    "    trials = []\n",
    "\n",
    "    for m in range(M):\n",
    "        collection = [random.randint(1,N) for x in range(K)]\n",
    "        while any([c != N for c in collection[-K:]]):\n",
    "            collection.append(random.randint(1,N))  # Note that the end point of randint() is inclusive.\n",
    "        trials.append(len(collection))\n",
    "\n",
    "    return sum(trials) / len(trials)"
   ]
  },
  {
   "cell_type": "code",
   "execution_count": 29,
   "metadata": {},
   "outputs": [
    {
     "name": "stdout",
     "output_type": "stream",
     "text": [
      "CPU times: total: 391 ms\n",
      "Wall time: 571 ms\n"
     ]
    },
    {
     "data": {
      "text/plain": [
       "41.8964"
      ]
     },
     "execution_count": 29,
     "metadata": {},
     "output_type": "execute_result"
    }
   ],
   "source": [
    "%time roll_v2(10000)\n",
    "#%prun roll_v2(10000,2) "
   ]
  },
  {
   "cell_type": "markdown",
   "metadata": {},
   "source": [
    "## Quiz 1\n",
    "\n",
    "### Q\n",
    "you pick a single number uniformly at random from the set {1,2,3,...,1000}, ie the first 1000 positive integers. \n",
    "What is the probability that it's a multiple of any two of the numbers 7,11, or 13? \n",
    "use python round answer to 3 decimal places\n",
    "\n",
    "\n",
    "\n",
    "### A\n",
    "To find the probability that a randomly chosen number from the set {1, 2, 3, ..., 1000} is a multiple of both 7 and 11, \n",
    "you need to calculate the probability of it being a multiple of their least common multiple (LCM), which is 77. \n",
    "Similarly, you need to calculate the probability that it's a multiple of both 7 and 13, which has an LCM of 91, \n",
    "and the probability that it's a multiple of both 11 and 13, which has an LCM of 143. \n",
    "Then, you'll add these probabilities and subtract the probabilities of being multiples of all three, \n",
    "which has an LCM of 1001 (which is greater than 1000).\n",
    "\n",
    "\n",
    "#### A\n",
    "To find pr random num frm set {1,2,3,...,1000} is M(7,11), get pr of it being a M of their LCM (77).\n",
    "pr M(7,13) ie LCM 91, 11,13 LCM 143.\n",
    "add pr of prs and - being M of all 3 (LCM 1001, >1000)\n"
   ]
  },
  {
   "cell_type": "code",
   "execution_count": 109,
   "metadata": {},
   "outputs": [
    {
     "name": "stdout",
     "output_type": "stream",
     "text": [
      "0.028\n"
     ]
    }
   ],
   "source": [
    "import math\n",
    "\n",
    "# Function to calculate the probability that a number is a multiple of a given divisor\n",
    "def probability_multiple(n, divisor):\n",
    "    return math.floor(1000 / divisor) / 1000\n",
    "\n",
    "# Calculate probabilities for multiples of 77, 91, and 143\n",
    "probability_77 = probability_multiple(1000, 77)\n",
    "probability_91 = probability_multiple(1000, 91)\n",
    "probability_143 = probability_multiple(1000, 143)\n",
    "\n",
    "# Calculate the total probability\n",
    "total_probability = probability_77 + probability_91 + probability_143\n",
    "\n",
    "# Subtract the probability of being a multiple of all three (LCM 1001)\n",
    "total_probability -= probability_multiple(1000, 1001)\n",
    "\n",
    "# Round the answer to 3 decimal places\n",
    "rounded_probability = round(total_probability, 3)\n",
    "\n",
    "print(rounded_probability)\n"
   ]
  }
 ],
 "metadata": {
  "kernelspec": {
   "display_name": "Python 3 (ipykernel)",
   "language": "python",
   "name": "python3"
  },
  "language_info": {
   "codemirror_mode": {
    "name": "ipython",
    "version": 3
   },
   "file_extension": ".py",
   "mimetype": "text/x-python",
   "name": "python",
   "nbconvert_exporter": "python",
   "pygments_lexer": "ipython3",
   "version": "3.11.3"
  }
 },
 "nbformat": 4,
 "nbformat_minor": 4
}
