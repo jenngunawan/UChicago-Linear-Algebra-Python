{
 "cells": [
  {
   "cell_type": "markdown",
   "metadata": {},
   "source": [
    "Homework M2HW02\n",
    "========"
   ]
  },
  {
   "cell_type": "code",
   "execution_count": 1,
   "metadata": {},
   "outputs": [
    {
     "name": "stdout",
     "output_type": "stream",
     "text": [
      "b1 = 0.624363496349557, b2 = 1.5570660360057254, b3 = 9.667125194198464\n",
      "z1 = 0.624363496349557, z2 = 2.181429532355282, z3 = 11.848554726553747\n"
     ]
    }
   ],
   "source": [
    "# Problem 2\n",
    "\n",
    "import numpy as np\n",
    "import random\n",
    "\n",
    "# Define the inverse upper triangular matrix\n",
    "delta_inv = np.array([[1,0,0],[1,1,0],[1,1,1]])\n",
    "\n",
    "# Define b1, b2, b3\n",
    "#random.seed(42) #to check work; not part of the actual assignment.\n",
    "b1 = random.uniform(0,10)\n",
    "b2 = random.uniform(0,10)\n",
    "b3 = random.uniform(0,10)\n",
    "\n",
    "# Define b\n",
    "b = np.array([b1,b2,b3])\n",
    "\n",
    "# Solve for z\n",
    "z = np.dot(delta_inv, b)\n",
    "\n",
    "# Extract z1, z2, z3\n",
    "z1, z2, z3 = z\n",
    "\n",
    "# Print b1, b2, b3, z1, z2, z3\n",
    "print(f\"b1 = {b1}, b2 = {b2}, b3 = {b3}\")\n",
    "print(f\"z1 = {z1}, z2 = {z2}, z3 = {z3}\")\n",
    "    '''\n",
    "    b1 = 0.624363496349557, b2 = 1.5570660360057254, b3 = 9.667125194198464\n",
    "    z1 = 0.624363496349557, z2 = 2.181429532355282, z3 = 11.848554726553747\n",
    "    '''"
   ]
  },
  {
   "cell_type": "code",
   "execution_count": 2,
   "metadata": {},
   "outputs": [],
   "source": [
    "import random\n",
    "from numpy import array, mean, var, sqrt"
   ]
  },
  {
   "cell_type": "code",
   "execution_count": 3,
   "metadata": {},
   "outputs": [],
   "source": [
    "def M2HW02P3(M=100, N=6):\n",
    "    \"\"\"\n",
    "    M: number of trials\n",
    "    N: number of faces in a die, which should be set to 6 for this problem.\n",
    "    \"\"\"\n",
    "   \n",
    "    \"\"\"\n",
    "    Fill in your Monte Carlo simultion code here. \n",
    "    \"\"\"\n",
    "    # Initialize arrays to store trial results\n",
    "    X_trials = np.zeros(M)\n",
    "    \n",
    "    # Monte Carlo Simulation for M trials\n",
    "    #random.seed(42) #to check work; not part of the actual assignment.\n",
    "    for i in range(M):\n",
    "        die_numbers = set()\n",
    "        rolls = 0\n",
    "        while len(die_numbers) < N:\n",
    "            roll = random.randint(1, N)\n",
    "            die_numbers.add(roll)\n",
    "            rolls += 1\n",
    "        X_trials[i] = rolls\n",
    "        \n",
    "    # Sample mean\n",
    "    m = np.mean(X_trials)\n",
    "    \n",
    "    # Sample variance (Var[X]) for X (r.v.)\n",
    "    v = np.var(X_trials, ddof=1) #specify ddof=1 for unbiased estimate; not specifying yields quantitatively similar results.\n",
    "    \n",
    "    # Standard error\n",
    "    s = np.sqrt(v/M)\n",
    "    \n",
    "    \"\"\"\n",
    "    You need to calculate and return the following three variables: m, v, and s.\n",
    "    m: sample mean, i.e., Monte Carlo estimate C.\n",
    "    v: variance of the random variable X you are simulating.\n",
    "    s: standard error, i.e., the standard deviation of C.\n",
    "    \"\"\"\n",
    "    #m = 0.\n",
    "    #v = 0.\n",
    "    #s = 0.\n",
    "    \n",
    "    return m, v, s"
   ]
  },
  {
   "cell_type": "code",
   "execution_count": 4,
   "metadata": {
    "scrolled": true
   },
   "outputs": [
    {
     "name": "stdout",
     "output_type": "stream",
     "text": [
      "CPU times: total: 31.2 ms\n",
      "Wall time: 74.8 ms\n",
      "M = 1000; mean, Var[X], standard error = (15.071, 38.79074974974975, 0.19695367412097126)\n",
      "M = 10000; mean, Var[X], standard error = (14.6245, 37.975897339733976, 0.061624587089678724)\n",
      "M = 100000; mean, Var[X], standard error = (14.66415, 38.340778185281856, 0.019580801358800883)\n"
     ]
    }
   ],
   "source": [
    "%time M2HW02P3(10000)\n",
    "\n",
    "# Call M2HW02P3 for the three cases\n",
    "num_trials = [1000, 10000, 100000]\n",
    "\n",
    "for M in num_trials:\n",
    "    mvs = M2HW02P3(M)\n",
    "    print(f\"M = {M}; mean, Var[X], standard error = {mvs}\")"
   ]
  }
 ],
 "metadata": {
  "kernelspec": {
   "display_name": "Python 3 (ipykernel)",
   "language": "python",
   "name": "python3"
  },
  "language_info": {
   "codemirror_mode": {
    "name": "ipython",
    "version": 3
   },
   "file_extension": ".py",
   "mimetype": "text/x-python",
   "name": "python",
   "nbconvert_exporter": "python",
   "pygments_lexer": "ipython3",
   "version": "3.11.3"
  }
 },
 "nbformat": 4,
 "nbformat_minor": 2
}
