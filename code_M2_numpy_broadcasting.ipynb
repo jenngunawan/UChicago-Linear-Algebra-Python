{
 "cells": [
  {
   "cell_type": "markdown",
   "id": "863bd929",
   "metadata": {},
   "source": [
    "Numpy Broadcasting\n",
    "==="
   ]
  },
  {
   "cell_type": "code",
   "execution_count": 17,
   "id": "dd4cc499",
   "metadata": {},
   "outputs": [],
   "source": [
    "import numpy as np\n",
    "from numpy import mod, arange, reshape, array, sum, cumprod"
   ]
  },
  {
   "cell_type": "markdown",
   "id": "b615e720",
   "metadata": {},
   "source": [
    "---\n",
    "Example 1\n",
    "==="
   ]
  },
  {
   "cell_type": "code",
   "execution_count": 5,
   "id": "57cc12f8",
   "metadata": {},
   "outputs": [
    {
     "name": "stdout",
     "output_type": "stream",
     "text": [
      "[[4 7 6 5]\n",
      " [9 2 8 7]\n",
      " [9 1 6 1]]\n",
      "\n",
      "[[7]\n",
      " [3]\n",
      " [1]]\n",
      "\n",
      "[[11 14 13 12]\n",
      " [12  5 11 10]\n",
      " [10  2  7  2]]\n"
     ]
    }
   ],
   "source": [
    "A = np.array([[4, 7, 6, 5],\n",
    "              [9, 2, 8, 7],\n",
    "              [9, 1, 6, 1],]\n",
    "            )\n",
    "print(A)\n",
    "print()\n",
    "\n",
    "B = np.array([[7, 3, 1]]).T\n",
    "print(B)\n",
    "print()\n",
    "\n",
    "print(A + B)"
   ]
  },
  {
   "cell_type": "markdown",
   "id": "8adb67d8",
   "metadata": {},
   "source": [
    "---\n",
    "Example 2\n",
    "==="
   ]
  },
  {
   "cell_type": "code",
   "execution_count": 6,
   "id": "76289f0a",
   "metadata": {},
   "outputs": [
    {
     "name": "stdout",
     "output_type": "stream",
     "text": [
      "[[3 9 3 2]\n",
      " [8 6 3 5]\n",
      " [7 1 9 7]\n",
      " [6 4 2 2]]\n",
      "\n",
      "[[7]\n",
      " [2]]\n",
      "\n"
     ]
    },
    {
     "ename": "ValueError",
     "evalue": "operands could not be broadcast together with shapes (4,4) (2,1) ",
     "output_type": "error",
     "traceback": [
      "\u001b[1;31m---------------------------------------------------------------------------\u001b[0m",
      "\u001b[1;31mValueError\u001b[0m                                Traceback (most recent call last)",
      "\u001b[1;32m<ipython-input-6-6a14c718bfff>\u001b[0m in \u001b[0;36m<module>\u001b[1;34m\u001b[0m\n\u001b[0;32m     11\u001b[0m \u001b[0mprint\u001b[0m\u001b[1;33m(\u001b[0m\u001b[1;33m)\u001b[0m\u001b[1;33m\u001b[0m\u001b[1;33m\u001b[0m\u001b[0m\n\u001b[0;32m     12\u001b[0m \u001b[1;33m\u001b[0m\u001b[0m\n\u001b[1;32m---> 13\u001b[1;33m \u001b[0mprint\u001b[0m\u001b[1;33m(\u001b[0m\u001b[0mA\u001b[0m \u001b[1;33m+\u001b[0m \u001b[0mB\u001b[0m\u001b[1;33m)\u001b[0m\u001b[1;33m\u001b[0m\u001b[1;33m\u001b[0m\u001b[0m\n\u001b[0m",
      "\u001b[1;31mValueError\u001b[0m: operands could not be broadcast together with shapes (4,4) (2,1) "
     ]
    }
   ],
   "source": [
    "A = np.array([[3, 9, 3, 2],\n",
    "              [8, 6, 3, 5],\n",
    "              [7, 1, 9, 7],\n",
    "              [6, 4, 2, 2],]\n",
    "            )\n",
    "print(A)\n",
    "print()\n",
    "\n",
    "B = np.array([[7, 2]]).T\n",
    "print(B)\n",
    "print()\n",
    "\n",
    "print(A + B)"
   ]
  },
  {
   "cell_type": "markdown",
   "id": "3608aebd",
   "metadata": {},
   "source": [
    "---\n",
    "Example 3\n",
    "==="
   ]
  },
  {
   "cell_type": "code",
   "execution_count": 14,
   "id": "e88227c7",
   "metadata": {},
   "outputs": [
    {
     "name": "stdout",
     "output_type": "stream",
     "text": [
      "[0 1 2 3]\n",
      "\n",
      "[1. 1. 1. 1. 1.]\n",
      "\n",
      "(4,)\n",
      "(5,)\n",
      "\n"
     ]
    },
    {
     "ename": "ValueError",
     "evalue": "operands could not be broadcast together with shapes (4,) (5,) ",
     "output_type": "error",
     "traceback": [
      "\u001b[1;31m---------------------------------------------------------------------------\u001b[0m",
      "\u001b[1;31mValueError\u001b[0m                                Traceback (most recent call last)",
      "\u001b[1;32m<ipython-input-14-c4bc8c28d366>\u001b[0m in \u001b[0;36m<module>\u001b[1;34m\u001b[0m\n\u001b[0;32m     11\u001b[0m \u001b[0mprint\u001b[0m\u001b[1;33m(\u001b[0m\u001b[1;33m)\u001b[0m\u001b[1;33m\u001b[0m\u001b[1;33m\u001b[0m\u001b[0m\n\u001b[0;32m     12\u001b[0m \u001b[1;33m\u001b[0m\u001b[0m\n\u001b[1;32m---> 13\u001b[1;33m \u001b[0mprint\u001b[0m\u001b[1;33m(\u001b[0m\u001b[0mx\u001b[0m \u001b[1;33m+\u001b[0m \u001b[0my\u001b[0m\u001b[1;33m)\u001b[0m\u001b[1;33m\u001b[0m\u001b[1;33m\u001b[0m\u001b[0m\n\u001b[0m",
      "\u001b[1;31mValueError\u001b[0m: operands could not be broadcast together with shapes (4,) (5,) "
     ]
    }
   ],
   "source": [
    "x = np.arange(4)\n",
    "print(x)\n",
    "print()\n",
    "\n",
    "y = np.ones(5)\n",
    "print(y)\n",
    "print()\n",
    "\n",
    "print(x.shape)\n",
    "print(y.shape)\n",
    "print()\n",
    "\n",
    "print(x + y)"
   ]
  },
  {
   "cell_type": "markdown",
   "id": "d37d3c25",
   "metadata": {},
   "source": [
    "---\n",
    "Example 4\n",
    "==="
   ]
  },
  {
   "cell_type": "code",
   "execution_count": 13,
   "id": "28cdf15f",
   "metadata": {},
   "outputs": [
    {
     "name": "stdout",
     "output_type": "stream",
     "text": [
      "[[0]\n",
      " [1]\n",
      " [2]\n",
      " [3]]\n",
      "\n",
      "[1. 1. 1. 1. 1.]\n",
      "\n",
      "(4, 1)\n",
      "( , 5)\n",
      "\n",
      "[[1. 1. 1. 1. 1.]\n",
      " [2. 2. 2. 2. 2.]\n",
      " [3. 3. 3. 3. 3.]\n",
      " [4. 4. 4. 4. 4.]]\n"
     ]
    }
   ],
   "source": [
    "x = np.arange(4)\n",
    "X = x.reshape(4, 1)\n",
    "print(X)\n",
    "print()\n",
    "\n",
    "y = np.ones(5)\n",
    "print(y)\n",
    "print()\n",
    "\n",
    "print(X.shape)\n",
    "print(f'( , {y.shape[0]})')\n",
    "print()\n",
    "\n",
    "print(X + y)"
   ]
  },
  {
   "cell_type": "markdown",
   "id": "33ac50e0",
   "metadata": {},
   "source": [
    "---\n",
    "Quiz\n",
    "===\n",
    "\n",
    "You pick a single number uniformly at random from the set {1, 2, 3, …, 1000}, i.e., the first 1000 positive integers. What is the probability that it’s a multiple of any two of the numbers 7, 11, or 13?"
   ]
  },
  {
   "cell_type": "code",
   "execution_count": 16,
   "id": "4792dbc0",
   "metadata": {},
   "outputs": [
    {
     "data": {
      "text/plain": [
       "0.028"
      ]
     },
     "execution_count": 16,
     "metadata": {},
     "output_type": "execute_result"
    }
   ],
   "source": [
    "sum(sum(mod(arange(1,1001).reshape(1,-1),array([[7,11,13]]).T)==0,axis=0)==2)/1000"
   ]
  },
  {
   "cell_type": "markdown",
   "id": "4b2c8aaa",
   "metadata": {},
   "source": [
    "---\n",
    "Quiz\n",
    "===\n",
    "\n",
    "A group of three friends are hanging out. Let’s assume their birthdays are uniformly and independently distributed across the 365-day year. The probability that some (i.e. at least two) of the people in this group have a birthday in common is as follows:\n",
    "\n",
    "1-(365×364×363)/(365×365×365)≅0.0082\n",
    "\n",
    "How the above expression comes about is simply 100% minus the probability that everyone in the group has a different birthday. Not surprisingly, the larger the group, the higher the probability of a birthday in common.\n",
    "Using this setup, what is the smallest group size such that the probability of a birthday in common is larger than 50%?"
   ]
  },
  {
   "cell_type": "code",
   "execution_count": 18,
   "id": "cb8047f8",
   "metadata": {},
   "outputs": [
    {
     "data": {
      "text/plain": [
       "23"
      ]
     },
     "execution_count": 18,
     "metadata": {},
     "output_type": "execute_result"
    }
   ],
   "source": [
    "sum(1 - cumprod(arange(365,0,-1.)/365) < .5) + 1"
   ]
  }
 ],
 "metadata": {
  "kernelspec": {
   "display_name": "Python 3",
   "language": "python",
   "name": "python3"
  },
  "language_info": {
   "codemirror_mode": {
    "name": "ipython",
    "version": 3
   },
   "file_extension": ".py",
   "mimetype": "text/x-python",
   "name": "python",
   "nbconvert_exporter": "python",
   "pygments_lexer": "ipython3",
   "version": "3.8.8"
  }
 },
 "nbformat": 4,
 "nbformat_minor": 5
}
