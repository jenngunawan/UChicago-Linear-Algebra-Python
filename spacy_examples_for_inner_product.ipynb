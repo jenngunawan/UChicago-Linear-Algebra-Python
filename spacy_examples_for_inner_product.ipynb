{
 "cells": [
  {
   "cell_type": "code",
   "execution_count": 1,
   "metadata": {},
   "outputs": [],
   "source": [
    "import spacy\n",
    "import numpy as np\n",
    "from numpy import inner\n",
    "from numpy.linalg import norm\n",
    "nlp = spacy.load('en_core_web_lg')"
   ]
  },
  {
   "cell_type": "code",
   "execution_count": 2,
   "metadata": {},
   "outputs": [],
   "source": [
    "doc = nlp('king queen male female')\n",
    "k, q, m, f = doc"
   ]
  },
  {
   "cell_type": "code",
   "execution_count": 3,
   "metadata": {},
   "outputs": [
    {
     "data": {
      "text/plain": [
       "(300,)"
      ]
     },
     "execution_count": 3,
     "metadata": {},
     "output_type": "execute_result"
    }
   ],
   "source": [
    "doc.vector.shape"
   ]
  },
  {
   "cell_type": "code",
   "execution_count": 4,
   "metadata": {},
   "outputs": [
    {
     "data": {
      "text/plain": [
       "True"
      ]
     },
     "execution_count": 4,
     "metadata": {},
     "output_type": "execute_result"
    }
   ],
   "source": [
    "np.allclose(doc.vector, (k.vector+q.vector+m.vector+f.vector)/4)"
   ]
  },
  {
   "cell_type": "code",
   "execution_count": 5,
   "metadata": {},
   "outputs": [
    {
     "data": {
      "text/plain": [
       "0.6108841896057129"
      ]
     },
     "execution_count": 5,
     "metadata": {},
     "output_type": "execute_result"
    }
   ],
   "source": [
    "q.similarity(k)"
   ]
  },
  {
   "cell_type": "code",
   "execution_count": 6,
   "metadata": {},
   "outputs": [
    {
     "data": {
      "text/plain": [
       "0.6108842"
      ]
     },
     "execution_count": 6,
     "metadata": {},
     "output_type": "execute_result"
    }
   ],
   "source": [
    "inner(q.vector, k.vector) / (norm(q.vector) * norm(k.vector))"
   ]
  },
  {
   "cell_type": "code",
   "execution_count": 13,
   "metadata": {},
   "outputs": [
    {
     "data": {
      "text/plain": [
       "0.2872360646724701"
      ]
     },
     "execution_count": 13,
     "metadata": {},
     "output_type": "execute_result"
    }
   ],
   "source": [
    "m.similarity(k)"
   ]
  },
  {
   "cell_type": "code",
   "execution_count": 16,
   "metadata": {},
   "outputs": [
    {
     "data": {
      "text/plain": [
       "0.5999937"
      ]
     },
     "execution_count": 16,
     "metadata": {},
     "output_type": "execute_result"
    }
   ],
   "source": [
    "inner(m.vector+q.vector-f.vector, k.vector) / (norm(m.vector+q.vector-f.vector) * norm(k.vector))"
   ]
  },
  {
   "cell_type": "code",
   "execution_count": 9,
   "metadata": {},
   "outputs": [],
   "source": [
    "ecb_7Mar2019 = \"\"\"\n",
    "Monetary policy decisions\n",
    "7 March 2019\n",
    "\n",
    "At today’s meeting the Governing Council of the European Central Bank (ECB) took the following monetary policy decisions:\n",
    "\n",
    "(1) The interest rate on the main refinancing operations and the interest rates on the marginal lending facility and the deposit facility will remain unchanged at 0.00%, 0.25% and -0.40% respectively. The Governing Council now expects the key ECB interest rates to remain at their present levels at least through the end of 2019, and in any case for as long as necessary to ensure the continued sustained convergence of inflation to levels that are below, but close to, 2% over the medium term.\n",
    "\n",
    "(2) The Governing Council intends to continue reinvesting, in full, the principal payments from maturing securities purchased under the asset purchase programme for an extended period of time past the date when it starts raising the key ECB interest rates, and in any case for as long as necessary to maintain favourable liquidity conditions and an ample degree of monetary accommodation.\n",
    "\n",
    "(3) A new series of quarterly targeted longer-term refinancing operations (TLTRO-III) will be launched, starting in September 2019 and ending in March 2021, each with a maturity of two years. These new operations will help to preserve favourable bank lending conditions and the smooth transmission of monetary policy. Under TLTRO-III, counterparties will be entitled to borrow up to 30% of the stock of eligible loans as at 28 February 2019 at a rate indexed to the interest rate on the main refinancing operations over the life of each operation. Like the outstanding TLTRO programme, TLTRO-III will feature built-in incentives for credit conditions to remain favourable. Further details on the precise terms of TLTRO-III will be communicated in due course.\n",
    "\n",
    "(4) The Eurosystem’s lending operations will continue to be conducted as fixed rate tender procedures with full allotment for as long as necessary, and at least until the end of the reserve maintenance period starting in March 2021.\n",
    "\n",
    "The President of the ECB will comment on the considerations underlying these decisions at a press conference starting at 14:30 CET today.\n",
    "\"\"\"\n",
    "doc_ecb_7Mar2019 = nlp(ecb_7Mar2019)"
   ]
  },
  {
   "cell_type": "code",
   "execution_count": 10,
   "metadata": {},
   "outputs": [],
   "source": [
    "ecb_6Mar2019 = \"\"\"\n",
    "ECB adopts opinion on appointment of new Executive Board member\n",
    "Twitter\n",
    " \n",
    "facebook\n",
    " \n",
    "linkedin\n",
    " \n",
    "email\n",
    "6 March 2019\n",
    "\n",
    "Governing Council has no objection to proposed candidate Philip Lane\n",
    "The Governing Council of the European Central Bank (ECB) today adopted an opinion on a recommendation from the Council of the European Union on the appointment of a member of the ECB’s Executive Board.\n",
    "\n",
    "The Governing Council had no objection to the proposed candidate, Philip Lane, who is a person of recognised standing and professional experience in monetary or banking matters, as required by Article 283(2) of the Treaty on the Functioning of the European Union. Mr Lane currently serves as Governor of the Central Bank of Ireland and is a member of the ECB’s Governing Council.\n",
    "\n",
    "Following the Governing Council’s opinion and an opinion of the European Parliament, the new member of the Executive Board will be appointed by the European Council. The Governing Council’s opinion, which will be published shortly in the Official Journal of the European Union, will be made available on the ECB’s website in all official EU languages.\n",
    "\n",
    "Once appointed, Mr Lane will succeed Peter Praet, whose eight-year term as Executive Board member ends on 31 May 2019.\n",
    "\"\"\"\n",
    "doc_ecb_6Mar2019 = nlp(ecb_6Mar2019)"
   ]
  },
  {
   "cell_type": "code",
   "execution_count": 11,
   "metadata": {},
   "outputs": [],
   "source": [
    "ecb_24Jan2019 = \"\"\"\n",
    "Monetary policy decisions\n",
    "Twitter\n",
    " \n",
    "facebook\n",
    " \n",
    "linkedin\n",
    " \n",
    "email\n",
    "24 January 2019\n",
    "\n",
    "At today’s meeting the Governing Council of the European Central Bank (ECB) decided that the interest rate on the main refinancing operations and the interest rates on the marginal lending facility and the deposit facility will remain unchanged at 0.00%, 0.25% and -0.40% respectively. The Governing Council expects the key ECB interest rates to remain at their present levels at least through the summer of 2019, and in any case for as long as necessary to ensure the continued sustained convergence of inflation to levels that are below, but close to, 2% over the medium term.\n",
    "\n",
    "Regarding non-standard monetary policy measures, the Governing Council intends to continue reinvesting, in full, the principal payments from maturing securities purchased under the asset purchase programme for an extended period of time past the date when it starts raising the key ECB interest rates, and in any case for as long as necessary to maintain favourable liquidity conditions and an ample degree of monetary accommodation.\n",
    "\n",
    "The President of the ECB will comment on the considerations underlying these decisions at a press conference starting at 14:30 CET today.\n",
    "\"\"\"\n",
    "doc_ecb_24Jan2019 = nlp(ecb_24Jan2019)"
   ]
  },
  {
   "cell_type": "code",
   "execution_count": 12,
   "metadata": {},
   "outputs": [
    {
     "name": "stdout",
     "output_type": "stream",
     "text": [
      "0.9222097806724244\n",
      "0.9893889478259682\n"
     ]
    }
   ],
   "source": [
    "print(doc_ecb_7Mar2019.similarity(doc_ecb_6Mar2019))\n",
    "print(doc_ecb_7Mar2019.similarity(doc_ecb_24Jan2019))"
   ]
  },
  {
   "cell_type": "code",
   "execution_count": null,
   "metadata": {},
   "outputs": [],
   "source": []
  }
 ],
 "metadata": {
  "kernelspec": {
   "display_name": "Python 3 (ipykernel)",
   "language": "python",
   "name": "python3"
  },
  "language_info": {
   "codemirror_mode": {
    "name": "ipython",
    "version": 3
   },
   "file_extension": ".py",
   "mimetype": "text/x-python",
   "name": "python",
   "nbconvert_exporter": "python",
   "pygments_lexer": "ipython3",
   "version": "3.9.13"
  }
 },
 "nbformat": 4,
 "nbformat_minor": 2
}
